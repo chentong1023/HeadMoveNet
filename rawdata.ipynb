{
 "metadata": {
  "language_info": {
   "codemirror_mode": {
    "name": "ipython",
    "version": 3
   },
   "file_extension": ".py",
   "mimetype": "text/x-python",
   "name": "python",
   "nbconvert_exporter": "python",
   "pygments_lexer": "ipython3",
   "version": "3.8.3"
  },
  "orig_nbformat": 2,
  "kernelspec": {
   "name": "python383jvsc74a57bd07f3693ad54dc669aecbcb8f2c7f4a0232fb7537b2ce8a634a213ecbed59d6583",
   "display_name": "Python 3.8.3 64-bit ('base': conda)"
  }
 },
 "nbformat": 4,
 "nbformat_minor": 2,
 "cells": [
  {
   "cell_type": "code",
   "execution_count": 4,
   "metadata": {},
   "outputs": [],
   "source": [
    "import os\n",
    "import numpy as np\n",
    "import time"
   ]
  },
  {
   "cell_type": "code",
   "execution_count": 16,
   "metadata": {},
   "outputs": [],
   "source": [
    "def raw2numpy(dir_path):\n",
    "    filelist = os.path.join(dir_path, 'filelist.txt')\n",
    "    data = None\n",
    "    first = True\n",
    "    with open(filelist, 'r') as f:\n",
    "        filepaths = f.readlines()\n",
    "        print(len(filepaths))\n",
    "        for line in filepaths:\n",
    "            line = line.strip('\\n')\n",
    "            filepath = os.path.join(dir_path, line)\n",
    "            ldata = np.loadtxt(filepath, skiprows=1)\n",
    "            if first:\n",
    "                data = ldata\n",
    "                first = False\n",
    "            else:\n",
    "                data = np.concatenate([data, ldata])\n",
    "            \n",
    "    return data"
   ]
  },
  {
   "cell_type": "code",
   "execution_count": 18,
   "metadata": {},
   "outputs": [
    {
     "output_type": "stream",
     "name": "stdout",
     "text": [
      "162\n",
      "162\n",
      "Mon Aug 24 21:34:34 2020\n"
     ]
    }
   ],
   "source": [
    "rawdata_path = '/Disk3/FixationNet/rawdata'\n",
    "gaze_path = os.path.join(rawdata_path, 'GazeData')\n",
    "head_path = os.path.join(rawdata_path, 'HeadData')\n",
    "\n",
    "gaze = raw2numpy(gaze_path)\n",
    "head = raw2numpy(head_path)\n",
    "np.save('gaze.npy', gaze)\n",
    "np.save('head.npy', head)\n",
    "readable = time.asctime(time.localtime(int(gaze[0,0] / 1000)))\n",
    "print(readable)\n"
   ]
  },
  {
   "cell_type": "code",
   "execution_count": 3,
   "metadata": {},
   "outputs": [
    {
     "output_type": "stream",
     "name": "stdout",
     "text": [
      "(30, 40)\n(30, 40)\n(30, 40)\n(30, 40)\n(30, 40)\n(30, 40)\n(30, 40)\n(30, 40)\n(30, 40)\n(30, 40)\n(30, 40)\n(30, 40)\n(30, 40)\n(30, 40)\n(30, 40)\n(30, 40)\n(30, 40)\n(30, 40)\n(30, 40)\n(30, 40)\n(30, 40)\n(30, 40)\n(30, 40)\n(30, 40)\n(30, 40)\n(30, 40)\n(30, 40)\n(30, 40)\n(30, 40)\n(30, 40)\n(30, 40)\n(30, 40)\n(30, 40)\n(30, 40)\n(30, 40)\n(30, 40)\n(30, 40)\n(30, 40)\n(30, 40)\n(30, 40)\n(30, 40)\n(30, 40)\n(30, 40)\n(30, 40)\n(30, 40)\n(30, 40)\n(30, 40)\n(30, 40)\n(30, 40)\n(30, 40)\n(30, 40)\n(30, 40)\n(30, 40)\n(30, 40)\n(30, 40)\n(30, 40)\n(30, 40)\n(30, 40)\n(30, 40)\n(30, 40)\n(30, 40)\n(30, 40)\n(30, 40)\n(30, 40)\n(30, 40)\n(30, 40)\n(30, 40)\n(30, 40)\n(30, 40)\n(30, 40)\n(30, 40)\n(30, 40)\n(30, 40)\n(30, 40)\n(30, 40)\n(30, 40)\n(30, 40)\n(30, 40)\n(30, 40)\n(30, 40)\n(30, 40)\n(30, 40)\n(30, 40)\n(30, 40)\n(30, 40)\n(30, 40)\n(30, 40)\n(30, 40)\n(30, 40)\n(30, 40)\n(30, 40)\n(30, 40)\n(30, 40)\n(30, 40)\n(30, 40)\n(30, 40)\n(30, 40)\n(30, 40)\n(30, 40)\n(30, 40)\n(30, 40)\n(30, 40)\n(30, 40)\n(30, 40)\n(30, 40)\n(30, 40)\n(30, 40)\n(30, 40)\n(30, 40)\n(30, 40)\n(30, 40)\n(30, 40)\n(30, 40)\n(30, 40)\n(30, 40)\n(30, 40)\n(30, 40)\n(30, 40)\n(30, 40)\n(30, 40)\n(30, 40)\n(30, 40)\n(30, 40)\n(30, 40)\n(30, 40)\n(30, 40)\n"
     ]
    }
   ],
   "source": [
    "dataset_path = './predictions/'\n",
    "files = os.listdir(dataset_path)\n",
    "for f in files:\n",
    "    data = np.load(os.path.join(dataset_path, f))"
   ]
  },
  {
   "cell_type": "code",
   "execution_count": 54,
   "metadata": {},
   "outputs": [
    {
     "output_type": "stream",
     "name": "stdout",
     "text": [
      "['pos37.txt', 'pos120.txt', 'pos114.txt', 'pos115.txt', 'pos71.txt', 'pos116.txt', 'pos5.txt', 'pos3.txt', 'pos68.txt', 'pos121.txt', 'pos103.txt', 'pos46.txt', 'pos110.txt', 'pos34.txt', 'pos44.txt', 'pos18.txt', 'pos74.txt', 'pos119.txt', 'pos67.txt', 'pos104.txt', 'pos33.txt', 'pos30.txt', 'pos77.txt', 'pos51.txt', 'pos48.txt', 'pos57.txt', 'pos99.txt', 'pos26.txt', 'pos98.txt', 'pos1.txt', 'pos107.txt', 'pos7.txt', 'pos124.txt', 'pos82.txt', 'pos70.txt', 'pos4.txt', 'pos50.txt', 'pos89.txt', 'pos42.txt', 'pos65.txt', 'pos60.txt', 'pos118.txt', 'pos92.txt', 'pos95.txt', 'pos6.txt', 'pos22.txt', 'pos66.txt', 'pos85.txt', 'pos25.txt', 'pos106.txt', 'pos23.txt', 'pos12.txt', 'pos90.txt', 'pos80.txt', 'pos21.txt', 'pos97.txt', 'pos19.txt', 'pos20.txt', 'pos111.txt', 'pos112.txt', 'pos93.txt', 'pos41.txt', 'pos122.txt', 'pos105.txt', 'pos28.txt', 'pos55.txt', 'pos59.txt', 'pos87.txt', 'pos72.txt', 'pos84.txt', 'pos31.txt', 'pos76.txt', 'pos40.txt', 'pos109.txt', 'pos81.txt', 'pos94.txt', 'pos17.txt', 'pos54.txt', 'pos56.txt', 'pos39.txt', 'pos61.txt', 'pos113.txt', 'pos101.txt', 'pos88.txt', 'pos16.txt', 'pos32.txt', 'pos108.txt', 'pos35.txt', 'pos29.txt', 'pos13.txt', 'pos62.txt', 'pos11.txt', 'pos64.txt', 'pos78.txt', 'pos86.txt', 'pos100.txt', 'pos10.txt', 'pos36.txt', 'pos117.txt', 'pos15.txt', 'pos79.txt', 'pos43.txt', 'pos38.txt', 'pos45.txt', 'pos14.txt', 'pos102.txt', 'pos27.txt', 'pos49.txt', 'pos47.txt', 'pos8.txt', 'pos63.txt', 'pos75.txt', 'pos9.txt', 'pos24.txt', 'pos53.txt', 'pos58.txt', 'pos83.txt', 'pos2.txt', 'pos96.txt', 'pos52.txt', 'pos125.txt', 'pos69.txt', 'pos91.txt', 'pos73.txt', 'pos126.txt', 'pos123.txt']\n(252, 3)\n"
     ]
    }
   ],
   "source": [
    "label_dir = './uscreen'\n",
    "label_files = os.listdir(label_dir)\n",
    "label_txts = [f for f in label_files if f.endswith(\".txt\")]\n",
    "# print(label_txts)\n",
    "label_txts = sorted(label_txts, key = lambda x: int(x[3:-4]))\n",
    "labels = []\n",
    "for label in label_txts:\n",
    "    if not label.endswith(\".txt\"):\n",
    "        continue\n",
    "    with open(os.path.join(label_dir, label), 'r') as f:\n",
    "        data = []\n",
    "        lines = list(f.readlines())[:2]\n",
    "        for line in lines:\n",
    "            num = line.strip('()\\n').split(',')\n",
    "            # print(num)\n",
    "            data.append([float(i) for i in num])\n",
    "    data = np.array(data)\n",
    "    labels.append(data)\n",
    "print(labels.shape)"
   ]
  },
  {
   "cell_type": "code",
   "execution_count": 63,
   "metadata": {},
   "outputs": [
    {
     "output_type": "stream",
     "name": "stdout",
     "text": [
      "['screenshot1.png.npy', 'screenshot2.png.npy', 'screenshot3.png.npy', 'screenshot4.png.npy', 'screenshot5.png.npy', 'screenshot6.png.npy', 'screenshot7.png.npy', 'screenshot8.png.npy', 'screenshot9.png.npy', 'screenshot10.png.npy', 'screenshot11.png.npy', 'screenshot12.png.npy', 'screenshot13.png.npy', 'screenshot14.png.npy', 'screenshot15.png.npy', 'screenshot16.png.npy', 'screenshot17.png.npy', 'screenshot18.png.npy', 'screenshot19.png.npy', 'screenshot20.png.npy', 'screenshot21.png.npy', 'screenshot22.png.npy', 'screenshot23.png.npy', 'screenshot24.png.npy', 'screenshot25.png.npy', 'screenshot26.png.npy', 'screenshot27.png.npy', 'screenshot28.png.npy', 'screenshot29.png.npy', 'screenshot30.png.npy', 'screenshot31.png.npy', 'screenshot32.png.npy', 'screenshot33.png.npy', 'screenshot34.png.npy', 'screenshot35.png.npy', 'screenshot36.png.npy', 'screenshot37.png.npy', 'screenshot38.png.npy', 'screenshot39.png.npy', 'screenshot40.png.npy', 'screenshot41.png.npy', 'screenshot42.png.npy', 'screenshot43.png.npy', 'screenshot44.png.npy', 'screenshot45.png.npy', 'screenshot46.png.npy', 'screenshot47.png.npy', 'screenshot48.png.npy', 'screenshot49.png.npy', 'screenshot50.png.npy', 'screenshot51.png.npy', 'screenshot52.png.npy', 'screenshot53.png.npy', 'screenshot54.png.npy', 'screenshot55.png.npy', 'screenshot56.png.npy', 'screenshot57.png.npy', 'screenshot58.png.npy', 'screenshot59.png.npy', 'screenshot60.png.npy', 'screenshot61.png.npy', 'screenshot62.png.npy', 'screenshot63.png.npy', 'screenshot64.png.npy', 'screenshot65.png.npy', 'screenshot66.png.npy', 'screenshot67.png.npy', 'screenshot68.png.npy', 'screenshot69.png.npy', 'screenshot70.png.npy', 'screenshot71.png.npy', 'screenshot72.png.npy', 'screenshot73.png.npy', 'screenshot74.png.npy', 'screenshot75.png.npy', 'screenshot76.png.npy', 'screenshot77.png.npy', 'screenshot78.png.npy', 'screenshot79.png.npy', 'screenshot80.png.npy', 'screenshot81.png.npy', 'screenshot82.png.npy', 'screenshot83.png.npy', 'screenshot84.png.npy', 'screenshot85.png.npy', 'screenshot86.png.npy', 'screenshot87.png.npy', 'screenshot88.png.npy', 'screenshot89.png.npy', 'screenshot90.png.npy', 'screenshot91.png.npy', 'screenshot92.png.npy', 'screenshot93.png.npy', 'screenshot94.png.npy', 'screenshot95.png.npy', 'screenshot96.png.npy', 'screenshot97.png.npy', 'screenshot98.png.npy', 'screenshot99.png.npy', 'screenshot100.png.npy', 'screenshot101.png.npy', 'screenshot102.png.npy', 'screenshot103.png.npy', 'screenshot104.png.npy', 'screenshot105.png.npy', 'screenshot106.png.npy', 'screenshot107.png.npy', 'screenshot108.png.npy', 'screenshot109.png.npy', 'screenshot110.png.npy', 'screenshot111.png.npy', 'screenshot112.png.npy', 'screenshot113.png.npy', 'screenshot114.png.npy', 'screenshot115.png.npy', 'screenshot116.png.npy', 'screenshot117.png.npy', 'screenshot118.png.npy', 'screenshot119.png.npy', 'screenshot120.png.npy', 'screenshot121.png.npy', 'screenshot122.png.npy', 'screenshot123.png.npy', 'screenshot124.png.npy', 'screenshot125.png.npy', 'screenshot126.png.npy']\n(30, 40)\n(30, 40)\n(30, 40)\n(30, 40)\n(30, 40)\n(30, 40)\n(30, 40)\n(30, 40)\n(30, 40)\n(30, 40)\n(30, 40)\n(30, 40)\n(30, 40)\n(30, 40)\n(30, 40)\n(30, 40)\n(30, 40)\n(30, 40)\n(30, 40)\n(30, 40)\n(30, 40)\n(30, 40)\n(30, 40)\n(30, 40)\n(30, 40)\n(30, 40)\n(30, 40)\n(30, 40)\n(30, 40)\n(30, 40)\n(30, 40)\n(30, 40)\n(30, 40)\n(30, 40)\n(30, 40)\n(30, 40)\n(30, 40)\n(30, 40)\n(30, 40)\n(30, 40)\n(30, 40)\n(30, 40)\n(30, 40)\n(30, 40)\n(30, 40)\n(30, 40)\n(30, 40)\n(30, 40)\n(30, 40)\n(30, 40)\n(30, 40)\n(30, 40)\n(30, 40)\n(30, 40)\n(30, 40)\n(30, 40)\n(30, 40)\n(30, 40)\n(30, 40)\n(30, 40)\n(30, 40)\n(30, 40)\n(30, 40)\n(30, 40)\n(30, 40)\n(30, 40)\n(30, 40)\n(30, 40)\n(30, 40)\n(30, 40)\n(30, 40)\n(30, 40)\n(30, 40)\n(30, 40)\n(30, 40)\n(30, 40)\n(30, 40)\n(30, 40)\n(30, 40)\n(30, 40)\n(30, 40)\n(30, 40)\n(30, 40)\n(30, 40)\n(30, 40)\n(30, 40)\n(30, 40)\n(30, 40)\n(30, 40)\n(30, 40)\n(30, 40)\n(30, 40)\n(30, 40)\n(30, 40)\n(30, 40)\n(30, 40)\n(30, 40)\n(30, 40)\n(30, 40)\n(30, 40)\n(30, 40)\n(30, 40)\n(30, 40)\n(30, 40)\n(30, 40)\n(30, 40)\n(30, 40)\n(30, 40)\n(30, 40)\n(30, 40)\n(30, 40)\n(30, 40)\n(30, 40)\n(30, 40)\n(30, 40)\n(30, 40)\n(30, 40)\n(30, 40)\n(30, 40)\n(30, 40)\n(30, 40)\n(30, 40)\n(30, 40)\n(30, 40)\n(30, 40)\n(30, 40)\n"
     ]
    }
   ],
   "source": [
    "imgs = []\n",
    "img_dir = './predictions'\n",
    "img_files = os.listdir(img_dir)\n",
    "img_npy = [f for f in img_files if f.endswith(\".npy\")]\n",
    "img_npy = sorted(img_npy, key = lambda x: int(x[10:-8]))\n",
    "print(img_npy)\n",
    "for img in img_npy:\n",
    "    data = np.load(os.path.join(img_dir, img))\n",
    "    imgs.append(data)\n",
    "    print(data.shape)"
   ]
  },
  {
   "cell_type": "code",
   "execution_count": null,
   "metadata": {},
   "outputs": [],
   "source": []
  }
 ]
}